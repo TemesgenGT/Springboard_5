{
 "cells": [
  {
   "cell_type": "markdown",
   "metadata": {},
   "source": [
    "# Modeling"
   ]
  },
  {
   "cell_type": "code",
   "execution_count": 1,
   "metadata": {},
   "outputs": [],
   "source": [
    "import pandas as pd\n",
    "import numpy as np\n",
    "import os\n",
    "import matplotlib.pyplot as plt\n",
    "import seaborn as sns\n",
    "from sklearn import __version__ as sklearn_version\n",
    "from sklearn.preprocessing import scale\n",
    "from sklearn.model_selection import train_test_split, cross_validate, GridSearchCV\n",
    "from sklearn.preprocessing import StandardScaler\n",
    "from sklearn.linear_model import LinearRegression\n",
    "from sklearn.ensemble import RandomForestRegressor\n",
    "from sklearn.metrics import r2_score, mean_squared_error, mean_absolute_error\n",
    "from sklearn.pipeline import make_pipeline\n",
    "from sklearn.impute import SimpleImputer\n",
    "from sklearn.feature_selection import SelectKBest, f_regression\n",
    "from sklearn.tree import DecisionTreeRegressor\n",
    "\n",
    "%matplotlib inline "
   ]
  },
  {
   "cell_type": "code",
   "execution_count": 13,
   "metadata": {},
   "outputs": [],
   "source": [
    "df = pd.read_csv('cleaned vehicles data to modeling.csv')"
   ]
  },
  {
   "cell_type": "code",
   "execution_count": 14,
   "metadata": {},
   "outputs": [
    {
     "data": {
      "text/html": [
       "<div>\n",
       "<style scoped>\n",
       "    .dataframe tbody tr th:only-of-type {\n",
       "        vertical-align: middle;\n",
       "    }\n",
       "\n",
       "    .dataframe tbody tr th {\n",
       "        vertical-align: top;\n",
       "    }\n",
       "\n",
       "    .dataframe thead th {\n",
       "        text-align: right;\n",
       "    }\n",
       "</style>\n",
       "<table border=\"1\" class=\"dataframe\">\n",
       "  <thead>\n",
       "    <tr style=\"text-align: right;\">\n",
       "      <th></th>\n",
       "      <th>manufacturer</th>\n",
       "      <th>model</th>\n",
       "      <th>condition</th>\n",
       "      <th>cylinders</th>\n",
       "      <th>fuel</th>\n",
       "      <th>title_status</th>\n",
       "      <th>transmission</th>\n",
       "      <th>drive</th>\n",
       "      <th>size</th>\n",
       "      <th>type</th>\n",
       "      <th>paint_color</th>\n",
       "      <th>price</th>\n",
       "      <th>year_make</th>\n",
       "      <th>odometer</th>\n",
       "      <th>mpg</th>\n",
       "      <th>rating</th>\n",
       "      <th>year_difference</th>\n",
       "      <th>new_price</th>\n",
       "      <th>depreciation per year</th>\n",
       "    </tr>\n",
       "  </thead>\n",
       "  <tbody>\n",
       "    <tr>\n",
       "      <th>0</th>\n",
       "      <td>5</td>\n",
       "      <td>143</td>\n",
       "      <td>2</td>\n",
       "      <td>4</td>\n",
       "      <td>2</td>\n",
       "      <td>0</td>\n",
       "      <td>0</td>\n",
       "      <td>0</td>\n",
       "      <td>1</td>\n",
       "      <td>0</td>\n",
       "      <td>10</td>\n",
       "      <td>8995.0</td>\n",
       "      <td>2011</td>\n",
       "      <td>178054.0</td>\n",
       "      <td>21.0</td>\n",
       "      <td>4.3</td>\n",
       "      <td>10</td>\n",
       "      <td>25426.696</td>\n",
       "      <td>0.098696</td>\n",
       "    </tr>\n",
       "    <tr>\n",
       "      <th>1</th>\n",
       "      <td>9</td>\n",
       "      <td>51</td>\n",
       "      <td>2</td>\n",
       "      <td>4</td>\n",
       "      <td>2</td>\n",
       "      <td>0</td>\n",
       "      <td>0</td>\n",
       "      <td>0</td>\n",
       "      <td>1</td>\n",
       "      <td>0</td>\n",
       "      <td>10</td>\n",
       "      <td>10995.0</td>\n",
       "      <td>2014</td>\n",
       "      <td>170259.0</td>\n",
       "      <td>24.0</td>\n",
       "      <td>4.1</td>\n",
       "      <td>7</td>\n",
       "      <td>29137.649</td>\n",
       "      <td>0.129970</td>\n",
       "    </tr>\n",
       "    <tr>\n",
       "      <th>2</th>\n",
       "      <td>20</td>\n",
       "      <td>122</td>\n",
       "      <td>0</td>\n",
       "      <td>2</td>\n",
       "      <td>2</td>\n",
       "      <td>0</td>\n",
       "      <td>0</td>\n",
       "      <td>0</td>\n",
       "      <td>2</td>\n",
       "      <td>0</td>\n",
       "      <td>1</td>\n",
       "      <td>12984.0</td>\n",
       "      <td>2016</td>\n",
       "      <td>86942.0</td>\n",
       "      <td>30.0</td>\n",
       "      <td>4.7</td>\n",
       "      <td>5</td>\n",
       "      <td>24223.771</td>\n",
       "      <td>0.117259</td>\n",
       "    </tr>\n",
       "    <tr>\n",
       "      <th>3</th>\n",
       "      <td>20</td>\n",
       "      <td>107</td>\n",
       "      <td>0</td>\n",
       "      <td>4</td>\n",
       "      <td>2</td>\n",
       "      <td>4</td>\n",
       "      <td>0</td>\n",
       "      <td>0</td>\n",
       "      <td>1</td>\n",
       "      <td>0</td>\n",
       "      <td>0</td>\n",
       "      <td>17382.0</td>\n",
       "      <td>2015</td>\n",
       "      <td>48932.0</td>\n",
       "      <td>23.0</td>\n",
       "      <td>4.1</td>\n",
       "      <td>5</td>\n",
       "      <td>29957.047</td>\n",
       "      <td>0.103149</td>\n",
       "    </tr>\n",
       "    <tr>\n",
       "      <th>4</th>\n",
       "      <td>9</td>\n",
       "      <td>51</td>\n",
       "      <td>0</td>\n",
       "      <td>4</td>\n",
       "      <td>2</td>\n",
       "      <td>4</td>\n",
       "      <td>0</td>\n",
       "      <td>0</td>\n",
       "      <td>1</td>\n",
       "      <td>0</td>\n",
       "      <td>0</td>\n",
       "      <td>25730.0</td>\n",
       "      <td>2017</td>\n",
       "      <td>49858.0</td>\n",
       "      <td>24.0</td>\n",
       "      <td>4.1</td>\n",
       "      <td>4</td>\n",
       "      <td>30921.106</td>\n",
       "      <td>0.044906</td>\n",
       "    </tr>\n",
       "  </tbody>\n",
       "</table>\n",
       "</div>"
      ],
      "text/plain": [
       "   manufacturer  model  condition  cylinders  fuel  title_status  \\\n",
       "0             5    143          2          4     2             0   \n",
       "1             9     51          2          4     2             0   \n",
       "2            20    122          0          2     2             0   \n",
       "3            20    107          0          4     2             4   \n",
       "4             9     51          0          4     2             4   \n",
       "\n",
       "   transmission  drive  size  type  paint_color    price  year_make  odometer  \\\n",
       "0             0      0     1     0           10   8995.0       2011  178054.0   \n",
       "1             0      0     1     0           10  10995.0       2014  170259.0   \n",
       "2             0      0     2     0            1  12984.0       2016   86942.0   \n",
       "3             0      0     1     0            0  17382.0       2015   48932.0   \n",
       "4             0      0     1     0            0  25730.0       2017   49858.0   \n",
       "\n",
       "    mpg  rating  year_difference  new_price  depreciation per year  \n",
       "0  21.0     4.3               10  25426.696               0.098696  \n",
       "1  24.0     4.1                7  29137.649               0.129970  \n",
       "2  30.0     4.7                5  24223.771               0.117259  \n",
       "3  23.0     4.1                5  29957.047               0.103149  \n",
       "4  24.0     4.1                4  30921.106               0.044906  "
      ]
     },
     "execution_count": 14,
     "metadata": {},
     "output_type": "execute_result"
    }
   ],
   "source": [
    "df.head()"
   ]
  },
  {
   "cell_type": "code",
   "execution_count": 15,
   "metadata": {},
   "outputs": [
    {
     "data": {
      "text/plain": [
       "(8030, 19)"
      ]
     },
     "execution_count": 15,
     "metadata": {},
     "output_type": "execute_result"
    }
   ],
   "source": [
    "df.shape"
   ]
  },
  {
   "cell_type": "code",
   "execution_count": 16,
   "metadata": {},
   "outputs": [],
   "source": [
    "df.drop(columns=['price', 'year_make'], axis=1, inplace =True)"
   ]
  },
  {
   "cell_type": "code",
   "execution_count": 17,
   "metadata": {},
   "outputs": [
    {
     "data": {
      "text/plain": [
       "(8030, 17)"
      ]
     },
     "execution_count": 17,
     "metadata": {},
     "output_type": "execute_result"
    }
   ],
   "source": [
    "df.shape"
   ]
  },
  {
   "cell_type": "code",
   "execution_count": 18,
   "metadata": {},
   "outputs": [],
   "source": [
    "# Split the data into dependent or target variable as y,  and predicator variables as X\n",
    "y = df['depreciation per year']\n",
    "X = df.drop('depreciation per year', axis=1)"
   ]
  },
  {
   "cell_type": "code",
   "execution_count": 19,
   "metadata": {},
   "outputs": [],
   "source": [
    "# Split the data into train and test, train_size is 0.7 using train_test_plit method, \n",
    "X_train, X_test, y_train, y_test = train_test_split(X, y, train_size=0.7, random_state=47)"
   ]
  },
  {
   "cell_type": "code",
   "execution_count": 20,
   "metadata": {},
   "outputs": [
    {
     "data": {
      "text/plain": [
       "((5621, 16), (2409, 16))"
      ]
     },
     "execution_count": 20,
     "metadata": {},
     "output_type": "execute_result"
    }
   ],
   "source": [
    "# Check the dimensions of training set meet the train size is 0.7\n",
    "X_train.shape, X_test.shape"
   ]
  },
  {
   "cell_type": "code",
   "execution_count": 21,
   "metadata": {},
   "outputs": [
    {
     "data": {
      "text/plain": [
       "Index(['manufacturer', 'model', 'condition', 'cylinders', 'fuel',\n",
       "       'title_status', 'transmission', 'drive', 'size', 'type', 'paint_color',\n",
       "       'odometer', 'mpg', 'rating', 'year_difference', 'new_price'],\n",
       "      dtype='object')"
      ]
     },
     "execution_count": 21,
     "metadata": {},
     "output_type": "execute_result"
    }
   ],
   "source": [
    "X_train.columns"
   ]
  },
  {
   "cell_type": "code",
   "execution_count": 22,
   "metadata": {},
   "outputs": [
    {
     "data": {
      "text/html": [
       "<div>\n",
       "<style scoped>\n",
       "    .dataframe tbody tr th:only-of-type {\n",
       "        vertical-align: middle;\n",
       "    }\n",
       "\n",
       "    .dataframe tbody tr th {\n",
       "        vertical-align: top;\n",
       "    }\n",
       "\n",
       "    .dataframe thead th {\n",
       "        text-align: right;\n",
       "    }\n",
       "</style>\n",
       "<table border=\"1\" class=\"dataframe\">\n",
       "  <thead>\n",
       "    <tr style=\"text-align: right;\">\n",
       "      <th></th>\n",
       "      <th>manufacturer</th>\n",
       "      <th>model</th>\n",
       "      <th>condition</th>\n",
       "      <th>cylinders</th>\n",
       "      <th>fuel</th>\n",
       "      <th>title_status</th>\n",
       "      <th>transmission</th>\n",
       "      <th>drive</th>\n",
       "      <th>size</th>\n",
       "      <th>type</th>\n",
       "      <th>paint_color</th>\n",
       "      <th>odometer</th>\n",
       "      <th>mpg</th>\n",
       "      <th>rating</th>\n",
       "      <th>year_difference</th>\n",
       "      <th>new_price</th>\n",
       "    </tr>\n",
       "  </thead>\n",
       "  <tbody>\n",
       "    <tr>\n",
       "      <th>2890</th>\n",
       "      <td>9</td>\n",
       "      <td>96</td>\n",
       "      <td>2</td>\n",
       "      <td>4</td>\n",
       "      <td>2</td>\n",
       "      <td>0</td>\n",
       "      <td>0</td>\n",
       "      <td>2</td>\n",
       "      <td>0</td>\n",
       "      <td>2</td>\n",
       "      <td>0</td>\n",
       "      <td>144000.0</td>\n",
       "      <td>24.0</td>\n",
       "      <td>4.6</td>\n",
       "      <td>16</td>\n",
       "      <td>20225.298</td>\n",
       "    </tr>\n",
       "    <tr>\n",
       "      <th>204</th>\n",
       "      <td>23</td>\n",
       "      <td>61</td>\n",
       "      <td>2</td>\n",
       "      <td>3</td>\n",
       "      <td>2</td>\n",
       "      <td>0</td>\n",
       "      <td>0</td>\n",
       "      <td>1</td>\n",
       "      <td>0</td>\n",
       "      <td>3</td>\n",
       "      <td>1</td>\n",
       "      <td>102879.0</td>\n",
       "      <td>31.0</td>\n",
       "      <td>4.1</td>\n",
       "      <td>10</td>\n",
       "      <td>19782.699</td>\n",
       "    </tr>\n",
       "    <tr>\n",
       "      <th>2252</th>\n",
       "      <td>24</td>\n",
       "      <td>155</td>\n",
       "      <td>0</td>\n",
       "      <td>4</td>\n",
       "      <td>2</td>\n",
       "      <td>0</td>\n",
       "      <td>0</td>\n",
       "      <td>1</td>\n",
       "      <td>2</td>\n",
       "      <td>0</td>\n",
       "      <td>0</td>\n",
       "      <td>157015.0</td>\n",
       "      <td>26.0</td>\n",
       "      <td>4.3</td>\n",
       "      <td>12</td>\n",
       "      <td>41352.525</td>\n",
       "    </tr>\n",
       "    <tr>\n",
       "      <th>982</th>\n",
       "      <td>14</td>\n",
       "      <td>120</td>\n",
       "      <td>3</td>\n",
       "      <td>2</td>\n",
       "      <td>2</td>\n",
       "      <td>0</td>\n",
       "      <td>1</td>\n",
       "      <td>1</td>\n",
       "      <td>0</td>\n",
       "      <td>8</td>\n",
       "      <td>9</td>\n",
       "      <td>150000.0</td>\n",
       "      <td>36.0</td>\n",
       "      <td>4.3</td>\n",
       "      <td>12</td>\n",
       "      <td>13258.513</td>\n",
       "    </tr>\n",
       "    <tr>\n",
       "      <th>6255</th>\n",
       "      <td>20</td>\n",
       "      <td>107</td>\n",
       "      <td>1</td>\n",
       "      <td>4</td>\n",
       "      <td>2</td>\n",
       "      <td>0</td>\n",
       "      <td>0</td>\n",
       "      <td>0</td>\n",
       "      <td>1</td>\n",
       "      <td>0</td>\n",
       "      <td>9</td>\n",
       "      <td>211000.0</td>\n",
       "      <td>23.0</td>\n",
       "      <td>4.1</td>\n",
       "      <td>15</td>\n",
       "      <td>24575.212</td>\n",
       "    </tr>\n",
       "  </tbody>\n",
       "</table>\n",
       "</div>"
      ],
      "text/plain": [
       "      manufacturer  model  condition  cylinders  fuel  title_status  \\\n",
       "2890             9     96          2          4     2             0   \n",
       "204             23     61          2          3     2             0   \n",
       "2252            24    155          0          4     2             0   \n",
       "982             14    120          3          2     2             0   \n",
       "6255            20    107          1          4     2             0   \n",
       "\n",
       "      transmission  drive  size  type  paint_color  odometer   mpg  rating  \\\n",
       "2890             0      2     0     2            0  144000.0  24.0     4.6   \n",
       "204              0      1     0     3            1  102879.0  31.0     4.1   \n",
       "2252             0      1     2     0            0  157015.0  26.0     4.3   \n",
       "982              1      1     0     8            9  150000.0  36.0     4.3   \n",
       "6255             0      0     1     0            9  211000.0  23.0     4.1   \n",
       "\n",
       "      year_difference  new_price  \n",
       "2890               16  20225.298  \n",
       "204                10  19782.699  \n",
       "2252               12  41352.525  \n",
       "982                12  13258.513  \n",
       "6255               15  24575.212  "
      ]
     },
     "execution_count": 22,
     "metadata": {},
     "output_type": "execute_result"
    }
   ],
   "source": [
    "X_train.head()"
   ]
  },
  {
   "cell_type": "markdown",
   "metadata": {},
   "source": [
    "# Linear Regression"
   ]
  },
  {
   "cell_type": "code",
   "execution_count": 23,
   "metadata": {},
   "outputs": [],
   "source": [
    "# Scale and transform the data \n",
    "scaler = StandardScaler()\n",
    "scaler.fit(X_train)\n",
    "X_tr_scaled = scaler.transform(X_train)\n",
    "X_te_scaled = scaler.transform(X_test)"
   ]
  },
  {
   "cell_type": "code",
   "execution_count": 24,
   "metadata": {},
   "outputs": [
    {
     "data": {
      "text/plain": [
       "LinearRegression()"
      ]
     },
     "execution_count": 24,
     "metadata": {},
     "output_type": "execute_result"
    }
   ],
   "source": [
    "# Apply linearRegression model and fit the X_tr_scaled.\n",
    "lm = LinearRegression()\n",
    "lm.fit(X_tr_scaled, y_train)"
   ]
  },
  {
   "cell_type": "code",
   "execution_count": 25,
   "metadata": {},
   "outputs": [],
   "source": [
    "# Make perdictions using the model on both train and test splits \n",
    "y_tr_pred = lm.predict(X_tr_scaled)\n",
    "y_te_pred = lm.predict(X_te_scaled)"
   ]
  },
  {
   "cell_type": "code",
   "execution_count": 26,
   "metadata": {},
   "outputs": [
    {
     "data": {
      "text/plain": [
       "(0.19738598426985376, 0.19077344219184733)"
      ]
     },
     "execution_count": 26,
     "metadata": {},
     "output_type": "execute_result"
    }
   ],
   "source": [
    "# Assess Model Performance\n",
    "r2_score(y_train, y_tr_pred), r2_score(y_test, y_te_pred)"
   ]
  },
  {
   "cell_type": "code",
   "execution_count": 16,
   "metadata": {},
   "outputs": [
    {
     "data": {
      "text/plain": [
       "(0.036328695341388696, 0.03567616701733572)"
      ]
     },
     "execution_count": 16,
     "metadata": {},
     "output_type": "execute_result"
    }
   ],
   "source": [
    "# Compare the result sklearn library and funtioned defined above.\n",
    "mean_absolute_error(y_train, y_tr_pred), mean_absolute_error(y_test, y_te_pred)"
   ]
  },
  {
   "cell_type": "code",
   "execution_count": 18,
   "metadata": {},
   "outputs": [
    {
     "data": {
      "text/plain": [
       "(0.06904168700781123, 0.06634485295521103)"
      ]
     },
     "execution_count": 18,
     "metadata": {},
     "output_type": "execute_result"
    }
   ],
   "source": [
    "# mean-squared-error from scaled dataset minimize the error\n",
    "np.sqrt(mean_squared_error(y_train, y_tr_pred)), np.sqrt(mean_squared_error(y_test, y_te_pred))"
   ]
  },
  {
   "cell_type": "code",
   "execution_count": 19,
   "metadata": {},
   "outputs": [],
   "source": [
    "# Generally Scaling minimize errors "
   ]
  },
  {
   "cell_type": "markdown",
   "metadata": {},
   "source": [
    "# Using Pipeline"
   ]
  },
  {
   "cell_type": "code",
   "execution_count": 28,
   "metadata": {},
   "outputs": [
    {
     "name": "stderr",
     "output_type": "stream",
     "text": [
      "/Users/temesgentesfay/opt/anaconda3/lib/python3.8/site-packages/sklearn/utils/validation.py:67: FutureWarning: Pass copy=<function f_regression at 0x7fed03c295e0> as keyword args. From version 0.25 passing these as positional arguments will result in an error\n",
      "  warnings.warn(\"Pass {} as keyword args. From version 0.25 \"\n"
     ]
    }
   ],
   "source": [
    "# Using linearRegression model to predict 'depreciation rate per year'\n",
    "pipe = make_pipeline(SimpleImputer(strategy='median'),\n",
    "                    StandardScaler(f_regression),\n",
    "                    SelectKBest(),\n",
    "                    LinearRegression())"
   ]
  },
  {
   "cell_type": "code",
   "execution_count": 29,
   "metadata": {},
   "outputs": [
    {
     "name": "stderr",
     "output_type": "stream",
     "text": [
      "/Users/temesgentesfay/opt/anaconda3/lib/python3.8/site-packages/sklearn/feature_selection/_univariate_selection.py:116: RuntimeWarning: divide by zero encountered in true_divide\n",
      "  f = msb / msw\n"
     ]
    },
    {
     "data": {
      "text/plain": [
       "Pipeline(steps=[('simpleimputer', SimpleImputer(strategy='median')),\n",
       "                ('standardscaler',\n",
       "                 StandardScaler(copy=<function f_regression at 0x7fed03c295e0>)),\n",
       "                ('selectkbest', SelectKBest()),\n",
       "                ('linearregression', LinearRegression())])"
      ]
     },
     "execution_count": 29,
     "metadata": {},
     "output_type": "execute_result"
    }
   ],
   "source": [
    "# Fit the split trainig data\n",
    "pipe.fit(X_train, y_train)"
   ]
  },
  {
   "cell_type": "code",
   "execution_count": 30,
   "metadata": {},
   "outputs": [
    {
     "data": {
      "text/plain": [
       "(0.16908204508582358, 0.19077344219184733)"
      ]
     },
     "execution_count": 30,
     "metadata": {},
     "output_type": "execute_result"
    }
   ],
   "source": [
    "# Compare result R^2 using the pipe line\n",
    "y_tr_pred = pipe.predict(X_train)\n",
    "y_ts_pred = pipe.predict(X_test)\n",
    "r2_score(y_train, y_tr_pred), r2_score(y_test, y_te_pred)"
   ]
  },
  {
   "cell_type": "code",
   "execution_count": 32,
   "metadata": {},
   "outputs": [],
   "source": [
    "# let check the r2-square result by reducing the number of fearures\n",
    "pipe15 = make_pipeline(SimpleImputer(strategy='median'),\n",
    "                      StandardScaler(),\n",
    "                      SelectKBest(f_regression, k=16),\n",
    "                      LinearRegression())"
   ]
  },
  {
   "cell_type": "code",
   "execution_count": 33,
   "metadata": {},
   "outputs": [
    {
     "data": {
      "text/plain": [
       "Pipeline(steps=[('simpleimputer', SimpleImputer(strategy='median')),\n",
       "                ('standardscaler', StandardScaler()),\n",
       "                ('selectkbest',\n",
       "                 SelectKBest(k=16,\n",
       "                             score_func=<function f_regression at 0x7fed03c295e0>)),\n",
       "                ('linearregression', LinearRegression())])"
      ]
     },
     "execution_count": 33,
     "metadata": {},
     "output_type": "execute_result"
    }
   ],
   "source": [
    "pipe15.fit(X_train, y_train)"
   ]
  },
  {
   "cell_type": "code",
   "execution_count": 34,
   "metadata": {},
   "outputs": [
    {
     "data": {
      "text/plain": [
       "(0.19738598426985376, 0.19077344219184733)"
      ]
     },
     "execution_count": 34,
     "metadata": {},
     "output_type": "execute_result"
    }
   ],
   "source": [
    "y_tr_pred = pipe15.predict(X_train)\n",
    "y_ts_pred = pipe15.predict(X_test)\n",
    "r2_score(y_train, y_tr_pred), r2_score(y_test, y_ts_pred)"
   ]
  },
  {
   "cell_type": "code",
   "execution_count": 27,
   "metadata": {},
   "outputs": [],
   "source": [
    "# Imputing with mean and medain return the same R-squared values. This could be either the distribution is normal \n",
    "# or there is no missing value is imputed."
   ]
  },
  {
   "cell_type": "code",
   "execution_count": 36,
   "metadata": {},
   "outputs": [
    {
     "data": {
      "text/plain": [
       "array([0.20166417, 0.17878579, 0.17644828, 0.2034418 , 0.18273846])"
      ]
     },
     "execution_count": 36,
     "metadata": {},
     "output_type": "execute_result"
    }
   ],
   "source": [
    "#Assess Perfomance Using Cross-Validation CV\n",
    "cross_val = cross_validate(pipe15, X_train, y_train, cv=5)\n",
    "cv_score = cross_val['test_score']\n",
    "cv_score"
   ]
  },
  {
   "cell_type": "code",
   "execution_count": 37,
   "metadata": {},
   "outputs": [],
   "source": [
    "# There is a great variability within the datasets is based on the outlieries datapoints in folds."
   ]
  },
  {
   "cell_type": "code",
   "execution_count": 38,
   "metadata": {},
   "outputs": [
    {
     "data": {
      "text/plain": [
       "(0.1886157014092626, 0.011569710187947092)"
      ]
     },
     "execution_count": 38,
     "metadata": {},
     "output_type": "execute_result"
    }
   ],
   "source": [
    "mean_cv_score = cv_score.mean()\n",
    "mean_cv_score, cv_score.std()"
   ]
  },
  {
   "cell_type": "code",
   "execution_count": 39,
   "metadata": {},
   "outputs": [],
   "source": [
    "# five fold cross validation reduce the R-squared result compared to the value obtain without coross validation. "
   ]
  },
  {
   "cell_type": "code",
   "execution_count": 79,
   "metadata": {},
   "outputs": [
    {
     "data": {
      "text/plain": [
       "(0.16547628103336842, 0.21175512178515676)"
      ]
     },
     "execution_count": 79,
     "metadata": {},
     "output_type": "execute_result"
    }
   ],
   "source": [
    "# Withine the two standard deviation 95% R_squdare distribution lies between 16.55% to 21.17%\n",
    "mean_cv_score - (2* cv_score.std()), mean_cv_score + 2*(cv_score.std())"
   ]
  },
  {
   "cell_type": "code",
   "execution_count": 41,
   "metadata": {},
   "outputs": [
    {
     "data": {
      "text/plain": [
       "dict_keys(['memory', 'steps', 'verbose', 'simpleimputer', 'standardscaler', 'selectkbest', 'linearregression', 'simpleimputer__add_indicator', 'simpleimputer__copy', 'simpleimputer__fill_value', 'simpleimputer__missing_values', 'simpleimputer__strategy', 'simpleimputer__verbose', 'standardscaler__copy', 'standardscaler__with_mean', 'standardscaler__with_std', 'selectkbest__k', 'selectkbest__score_func', 'linearregression__copy_X', 'linearregression__fit_intercept', 'linearregression__n_jobs', 'linearregression__normalize'])"
      ]
     },
     "execution_count": 41,
     "metadata": {},
     "output_type": "execute_result"
    }
   ],
   "source": [
    "pipe.get_params().keys()"
   ]
  },
  {
   "cell_type": "code",
   "execution_count": 42,
   "metadata": {},
   "outputs": [],
   "source": [
    "# Create param_grid where search pass through all options then return best.\n",
    "k = [k+1 for k in range(len(X_train.columns))]\n",
    "grid_params = {'selectkbest__k':k}"
   ]
  },
  {
   "cell_type": "code",
   "execution_count": 43,
   "metadata": {},
   "outputs": [],
   "source": [
    "# GridSearch to the pipe line and param_grids with cross-validation 5 folds.\n",
    "lr_gd_cv = GridSearchCV(pipe, param_grid = grid_params, cv=5,n_jobs=-1)"
   ]
  },
  {
   "cell_type": "code",
   "execution_count": 44,
   "metadata": {},
   "outputs": [
    {
     "name": "stdout",
     "output_type": "stream",
     "text": [
      "cv\n",
      "error_score\n",
      "estimator__memory\n",
      "estimator__steps\n",
      "estimator__verbose\n",
      "estimator__simpleimputer\n",
      "estimator__standardscaler\n",
      "estimator__selectkbest\n",
      "estimator__linearregression\n",
      "estimator__simpleimputer__add_indicator\n",
      "estimator__simpleimputer__copy\n",
      "estimator__simpleimputer__fill_value\n",
      "estimator__simpleimputer__missing_values\n",
      "estimator__simpleimputer__strategy\n",
      "estimator__simpleimputer__verbose\n",
      "estimator__standardscaler__copy\n",
      "estimator__standardscaler__with_mean\n",
      "estimator__standardscaler__with_std\n",
      "estimator__selectkbest__k\n",
      "estimator__selectkbest__score_func\n",
      "estimator__linearregression__copy_X\n",
      "estimator__linearregression__fit_intercept\n",
      "estimator__linearregression__n_jobs\n",
      "estimator__linearregression__normalize\n",
      "estimator\n",
      "iid\n",
      "n_jobs\n",
      "param_grid\n",
      "pre_dispatch\n",
      "refit\n",
      "return_train_score\n",
      "scoring\n",
      "verbose\n"
     ]
    }
   ],
   "source": [
    "for param in lr_gd_cv.get_params().keys():\n",
    "    print(param)"
   ]
  },
  {
   "cell_type": "code",
   "execution_count": 45,
   "metadata": {},
   "outputs": [
    {
     "name": "stderr",
     "output_type": "stream",
     "text": [
      "/Users/temesgentesfay/opt/anaconda3/lib/python3.8/site-packages/sklearn/feature_selection/_univariate_selection.py:116: RuntimeWarning: divide by zero encountered in true_divide\n",
      "  f = msb / msw\n"
     ]
    }
   ],
   "source": [
    "# Fit train dataset to grid search output\n",
    "result = lr_gd_cv.fit(X_train, y_train)"
   ]
  },
  {
   "cell_type": "code",
   "execution_count": 47,
   "metadata": {},
   "outputs": [],
   "source": [
    "score_mean = result.cv_results_['mean_test_score']\n",
    "score_std = result.cv_results_['std_test_score']\n",
    "cv_k = [k for k in lr_gd_cv.cv_results_['param_selectkbest__k']]"
   ]
  },
  {
   "cell_type": "code",
   "execution_count": 48,
   "metadata": {},
   "outputs": [
    {
     "data": {
      "text/plain": [
       "{'selectkbest__k': 16}"
      ]
     },
     "execution_count": 48,
     "metadata": {},
     "output_type": "execute_result"
    }
   ],
   "source": [
    "# The best params attribut of lr-grid_cv\n",
    "lr_gd_cv.best_params_"
   ]
  },
  {
   "cell_type": "code",
   "execution_count": 49,
   "metadata": {},
   "outputs": [
    {
     "name": "stderr",
     "output_type": "stream",
     "text": [
      "<ipython-input-49-6f3e9d8efc66>:5: MatplotlibDeprecationWarning: Case-insensitive properties were deprecated in 3.3 and support will be removed two minor releases later\n",
      "  plt.axvline(x=best_k, C='r', ls='--')\n"
     ]
    },
    {
     "data": {
      "image/png": "[encoded data removed]",
      "text/plain": [
       "<Figure size 720x360 with 1 Axes>"
      ]
     },
     "metadata": {
      "needs_background": "light"
     },
     "output_type": "display_data"
    }
   ],
   "source": [
    "# Line graph on error distribution\n",
    "best_k = [lr_gd_cv.best_params_['selectkbest__k']]\n",
    "plt.subplots(figsize=(10,5))\n",
    "plt.errorbar(cv_k, score_mean,  yerr = score_std)\n",
    "plt.axvline(x=best_k, C='r', ls='--')\n",
    "#plt.axvline(x=10, C='blue', linestyle='--')\n",
    "plt.xlabel('K')\n",
    "plt.ylabel('CV score (R-squared)')\n",
    "plt.title('Pipeline mean CV score/error', size=15, color='blue')\n",
    "plt.show()"
   ]
  },
  {
   "cell_type": "code",
   "execution_count": 41,
   "metadata": {},
   "outputs": [],
   "source": [
    "# From the eyeballing at  k = 10 yield best result, despite slight improvement\n",
    "# until k = 16 but the last six features contirbute more to overfitting the model. "
   ]
  },
  {
   "cell_type": "code",
   "execution_count": 50,
   "metadata": {},
   "outputs": [],
   "source": [
    "selected = lr_gd_cv.best_estimator_.named_steps.selectkbest.get_support()"
   ]
  },
  {
   "cell_type": "code",
   "execution_count": 51,
   "metadata": {},
   "outputs": [
    {
     "data": {
      "text/plain": [
       "odometer           0.012428\n",
       "new_price          0.011549\n",
       "type               0.009165\n",
       "mpg                0.008748\n",
       "condition          0.008081\n",
       "fuel               0.006969\n",
       "model              0.006862\n",
       "title_status       0.006514\n",
       "drive              0.006210\n",
       "size               0.000273\n",
       "paint_color       -0.000282\n",
       "manufacturer      -0.002042\n",
       "transmission      -0.002398\n",
       "cylinders         -0.004668\n",
       "rating            -0.012349\n",
       "year_difference   -0.022407\n",
       "dtype: float64"
      ]
     },
     "execution_count": 51,
     "metadata": {},
     "output_type": "execute_result"
    }
   ],
   "source": [
    "# Get the linear model coefficients from the `coef_` attribute and store in `coefs`,\n",
    "# get the matching feature names from the column names of the dataframe,\n",
    "# and display the results as a pandas Series with `coefs` as the values and `features` as the index,\n",
    "# sorting the values in descending order\n",
    "coefs = lr_gd_cv.best_estimator_.named_steps.linearregression.coef_\n",
    "features = X_train.columns[selected]\n",
    "pd.Series(coefs, index=features).sort_values(ascending= False)"
   ]
  },
  {
   "cell_type": "markdown",
   "metadata": {},
   "source": [
    "# Decision Tree Regressor"
   ]
  },
  {
   "cell_type": "code",
   "execution_count": 52,
   "metadata": {},
   "outputs": [
    {
     "name": "stdout",
     "output_type": "stream",
     "text": [
      "The mean of corss validated score: -0.186\n",
      "The mean score without CV: 0.999\n"
     ]
    }
   ],
   "source": [
    "from sklearn.model_selection import cross_val_score\n",
    "\n",
    "dt = DecisionTreeRegressor(random_state=47, criterion='mse')\n",
    "dt.fit(X_train, y_train)\n",
    "dt_scores = cross_val_score(dt, X_train, y_train, cv=5)\n",
    "\n",
    "print('The mean of corss validated score: %.3f'%(np.mean(dt_scores)))\n",
    "print('The mean score without CV: %.3f'%(dt.score(X_train, y_train)))"
   ]
  },
  {
   "cell_type": "code",
   "execution_count": 53,
   "metadata": {},
   "outputs": [
    {
     "name": "stdout",
     "output_type": "stream",
     "text": [
      "-0.21212202528702107\n",
      "-0.21212202528702107\n"
     ]
    }
   ],
   "source": [
    "# On the test or hold-out set \n",
    "y_pred = dt.predict(X_test)\n",
    "print( r2_score(y_test, dt.predict(X_test)))\n",
    "print(dt.score(X_test, y_test))"
   ]
  },
  {
   "cell_type": "code",
   "execution_count": 54,
   "metadata": {},
   "outputs": [
    {
     "name": "stdout",
     "output_type": "stream",
     "text": [
      "The best samplle split is {'max_depth': 4, 'min_samples_split': 8}\n",
      "The best score is 0.25252574100834085\n"
     ]
    }
   ],
   "source": [
    "# Apply GrideSearchCV on decision Tree with five-fold cross validation\n",
    "param_grid = {\"max_depth\":range(2, 18),'min_samples_split': range(2,18)}\n",
    "gs = GridSearchCV(DecisionTreeRegressor(random_state=47 ),\n",
    "                  param_grid = param_grid,  cv=5)\n",
    "gs.fit(X_train, y_train)\n",
    "print('The best samplle split is {}'.format(gs.best_params_))\n",
    "print(f'The best score is {gs.best_score_}')  "
   ]
  },
  {
   "cell_type": "code",
   "execution_count": 51,
   "metadata": {},
   "outputs": [],
   "source": [
    "#The model return best result at the max depth 8 with 25.25%  R-squared."
   ]
  },
  {
   "cell_type": "code",
   "execution_count": 87,
   "metadata": {},
   "outputs": [
    {
     "name": "stdout",
     "output_type": "stream",
     "text": [
      "[-0.48574728 -0.25901098 -0.30383733 -0.12543405 -0.28302711]\n",
      "The Score without CV: 0.999\n"
     ]
    }
   ],
   "source": [
    "from sklearn.model_selection import cross_val_score\n",
    "\n",
    "dt_ame = DecisionTreeRegressor(random_state=47, criterion='mae')\n",
    "dt_ame.fit(X_train, y_train)\n",
    "dt_ame_scores = cross_val_score(dt_ame, X_train, y_train, cv=5)\n",
    "print(dt_ame_scores)\n",
    "print('The Score without CV: %.3f'%(dt_ame.score(X_train, y_train)))"
   ]
  },
  {
   "cell_type": "code",
   "execution_count": 88,
   "metadata": {},
   "outputs": [
    {
     "name": "stdout",
     "output_type": "stream",
     "text": [
      "-0.4140939444029039\n",
      "-0.4140939444029039\n"
     ]
    }
   ],
   "source": [
    "y_pred = dt_ame.predict(X_test)\n",
    "print( r2_score(y_test, y_pred))\n",
    "print(dt_ame.score(X_test, y_test))"
   ]
  },
  {
   "cell_type": "code",
   "execution_count": 59,
   "metadata": {},
   "outputs": [
    {
     "name": "stdout",
     "output_type": "stream",
     "text": [
      "The best samplle split is {'max_depth': 4, 'min_samples_split': 8}\n",
      "The best score is 0.25252574100834085\n"
     ]
    }
   ],
   "source": [
    "# Apply GrideSearchCV on decision Tree\n",
    "param_grid = {\"max_depth\":range(2, 18),'min_samples_split': range(2,18)}\n",
    "gsa = GridSearchCV(DecisionTreeRegressor(random_state=47 ),\n",
    "                  param_grid = param_grid,  cv=5)\n",
    "gsa.fit(X_train, y_train)\n",
    "print('The best samplle split is {}'.format(gsa.best_params_))\n",
    "print(f'The best score is {gsa.best_score_}')  "
   ]
  },
  {
   "cell_type": "markdown",
   "metadata": {},
   "source": [
    "# Random Forest Regression"
   ]
  },
  {
   "cell_type": "code",
   "execution_count": 60,
   "metadata": {},
   "outputs": [],
   "source": [
    "# Define a pipleline\n",
    "# Use SimpleImputer strategy is median , and StandardScaler()\n",
    "# Define randomeforestregressor as random state is 42\n",
    "RF_pipe = make_pipeline(\n",
    "                        SimpleImputer(strategy='median'),\n",
    "                        StandardScaler(),\n",
    "                        RandomForestRegressor(random_state=47)\n",
    ")"
   ]
  },
  {
   "cell_type": "code",
   "execution_count": 61,
   "metadata": {},
   "outputs": [],
   "source": [
    "# Fit and assess the performance with Cross Validation\n",
    "forest_cv_result = cross_validate(RF_pipe, X_train, y_train, cv=5)"
   ]
  },
  {
   "cell_type": "code",
   "execution_count": 62,
   "metadata": {},
   "outputs": [
    {
     "data": {
      "text/plain": [
       "array([0.3816075 , 0.35763843, 0.40200047, 0.43733541, 0.32454609])"
      ]
     },
     "execution_count": 62,
     "metadata": {},
     "output_type": "execute_result"
    }
   ],
   "source": [
    "forest_cv_score = forest_cv_result['test_score']\n",
    "forest_cv_score"
   ]
  },
  {
   "cell_type": "code",
   "execution_count": 63,
   "metadata": {},
   "outputs": [
    {
     "data": {
      "text/plain": [
       "(0.3806255805752875, 0.03833320355560358)"
      ]
     },
     "execution_count": 63,
     "metadata": {},
     "output_type": "execute_result"
    }
   ],
   "source": [
    "np.mean(forest_cv_score), np.std(forest_cv_score)"
   ]
  },
  {
   "cell_type": "code",
   "execution_count": null,
   "metadata": {},
   "outputs": [],
   "source": [
    "# Random Forest Regressor corssvalidation return R_score 38.06% is far better than DecisionTreeRegressor"
   ]
  },
  {
   "cell_type": "code",
   "execution_count": 69,
   "metadata": {},
   "outputs": [],
   "source": [
    "n_est = [int(n +1) for n in range(len(X_train.columns)+ 1)]\n",
    "grid_params = {\n",
    "    'randomforestregressor__n_estimators': n_est,\n",
    "    'standardscaler':[StandardScaler(),None],\n",
    "    'simpleimputer__strategy':['mean', 'median']\n",
    "}"
   ]
  },
  {
   "cell_type": "code",
   "execution_count": 70,
   "metadata": {},
   "outputs": [],
   "source": [
    "forest_gd_cv = GridSearchCV(RF_pipe, param_grid = grid_params, cv=5, n_jobs=-1)"
   ]
  },
  {
   "cell_type": "code",
   "execution_count": 71,
   "metadata": {},
   "outputs": [
    {
     "data": {
      "text/plain": [
       "GridSearchCV(cv=5,\n",
       "             estimator=Pipeline(steps=[('simpleimputer',\n",
       "                                        SimpleImputer(strategy='median')),\n",
       "                                       ('standardscaler', StandardScaler()),\n",
       "                                       ('randomforestregressor',\n",
       "                                        RandomForestRegressor(random_state=47))]),\n",
       "             n_jobs=-1,\n",
       "             param_grid={'randomforestregressor__n_estimators': [1, 2, 3, 4, 5,\n",
       "                                                                 6, 7, 8, 9, 10,\n",
       "                                                                 11, 12, 13, 14,\n",
       "                                                                 15, 16, 17],\n",
       "                         'simpleimputer__strategy': ['mean', 'median'],\n",
       "                         'standardscaler': [StandardScaler(), None]})"
      ]
     },
     "execution_count": 71,
     "metadata": {},
     "output_type": "execute_result"
    }
   ],
   "source": [
    "forest_gd_cv.fit(X_train, y_train)"
   ]
  },
  {
   "cell_type": "code",
   "execution_count": 72,
   "metadata": {},
   "outputs": [
    {
     "data": {
      "text/plain": [
       "{'randomforestregressor__n_estimators': 16,\n",
       " 'simpleimputer__strategy': 'mean',\n",
       " 'standardscaler': StandardScaler()}"
      ]
     },
     "execution_count": 72,
     "metadata": {},
     "output_type": "execute_result"
    }
   ],
   "source": [
    "forest_gd_cv.best_params_"
   ]
  },
  {
   "cell_type": "code",
   "execution_count": 74,
   "metadata": {
    "scrolled": true
   },
   "outputs": [
    {
     "name": "stdout",
     "output_type": "stream",
     "text": [
      "RandomForest best score accuracy is, 0.364796\n"
     ]
    }
   ],
   "source": [
    "# The accuracy score from hperparameter tuning.\n",
    "print('RandomForest best score accuracy is, {:3f}'.format(forest_gd_cv.best_score_))"
   ]
  },
  {
   "cell_type": "code",
   "execution_count": 75,
   "metadata": {},
   "outputs": [],
   "source": [
    "forest_gd_cv_result = cross_validate(forest_gd_cv.best_estimator_, X_train, y_train, cv=5)"
   ]
  },
  {
   "cell_type": "code",
   "execution_count": 76,
   "metadata": {},
   "outputs": [
    {
     "data": {
      "text/plain": [
       "array([0.35727972, 0.33008927, 0.38901418, 0.42525934, 0.32233821])"
      ]
     },
     "execution_count": 76,
     "metadata": {},
     "output_type": "execute_result"
    }
   ],
   "source": [
    "# The accuracy of each cross validated outcome\n",
    "forest_gd_score = forest_gd_cv_result['test_score']\n",
    "forest_gd_score"
   ]
  },
  {
   "cell_type": "code",
   "execution_count": 77,
   "metadata": {},
   "outputs": [
    {
     "data": {
      "text/plain": [
       "(0.3647961457662233, 0.038225780033715906)"
      ]
     },
     "execution_count": 77,
     "metadata": {},
     "output_type": "execute_result"
    }
   ],
   "source": [
    "np.mean(forest_gd_score), np.std(forest_gd_score)"
   ]
  },
  {
   "cell_type": "code",
   "execution_count": 86,
   "metadata": {},
   "outputs": [
    {
     "name": "stdout",
     "output_type": "stream",
     "text": [
      " 1 transmission          0.00458\n",
      " 2 cylinders             0.01177\n",
      " 3 drive                 0.02152\n",
      " 4 title_status          0.02345\n",
      " 5 size                  0.03001\n",
      " 6 fuel                  0.03665\n",
      " 7 rating                0.03675\n",
      " 8 condition             0.03911\n",
      " 9 mpg                   0.03928\n",
      "10 type                  0.04021\n",
      "11 manufacturer          0.04426\n",
      "12 paint_color           0.05373\n",
      "13 new_price             0.06618\n",
      "14 model                 0.07068\n",
      "15 odometer              0.22139\n",
      "16 year_difference       0.26045\n"
     ]
    },
    {
     "data": {
      "image/png": "[encoded data removed]",
      "text/plain": [
       "<Figure size 576x432 with 1 Axes>"
      ]
     },
     "metadata": {
      "needs_background": "light"
     },
     "output_type": "display_data"
    }
   ],
   "source": [
    "#Plot a barplot of the random forest's feature importances,\n",
    "#assigning the feature_importances_` attribute of \n",
    "#`rf_grid_cv.best_estimator_.named_steps.randomforestregressor` to the name `imps` to then\n",
    "#create a pandas Series object of the feature importances, with the index given by the\n",
    "#training data column names, sorting the values \n",
    "\n",
    "forest = RandomForestRegressor( random_state=47)\n",
    "feature_labels = df.columns.drop('depreciation per year')\n",
    "forest.fit(X_train, y_train)\n",
    "importances = forest.feature_importances_\n",
    "#assign value in ascending order\n",
    "indices = np.argsort(importances)[: :]\n",
    "for i in range (X_train.shape[1]):\n",
    "    print(\"%2d %-*s %.5f\" %(i+1, 21, feature_labels[indices[i]], importances[indices[i]]))\n",
    "plt.figure(figsize=(8, 6))\n",
    "plt.title('Random Forest feature importances', color='blue', size=20)\n",
    "plt.xlabel('Relative Importance')\n",
    "#plt.xscale('log')\n",
    "plt.barh(range(X_train.shape[1]),importances[indices]*1000, color='cyan')\n",
    "plt.yticks(range(X_train.shape[1]),feature_labels[indices], rotation=0, color= 'black')\n",
    "plt.xlim([-1, 400])\n",
    "plt.tight_layout()\n",
    "plt.margins(0.02)"
   ]
  },
  {
   "cell_type": "markdown",
   "metadata": {},
   "source": [
    "Conculustion:\n",
    "Random Forest return the best accuracy score comapred to LinarRegression and DecisionRegressionTree models\n",
    "moreover,random forset provide the most relevant features therefore, \"year_difference\", \"odomoter\", \"model\", \n",
    "\"new_price\", \"paint_color\" and \"manufacturers\" are taking the dominant contribution in R-squared score. Thus \n",
    "depreciation rate of a vehicles primairly depend on those six parameters to evaluate vehicles price. "
   ]
  },
  {
   "cell_type": "code",
   "execution_count": null,
   "metadata": {},
   "outputs": [],
   "source": []
  }
 ],
 "metadata": {
  "kernelspec": {
   "display_name": "Python 3",
   "language": "python",
   "name": "python3"
  },
  "language_info": {
   "codemirror_mode": {
    "name": "ipython",
    "version": 3
   },
   "file_extension": ".py",
   "mimetype": "text/x-python",
   "name": "python",
   "nbconvert_exporter": "python",
   "pygments_lexer": "ipython3",
   "version": "3.8.5"
  }
 },
 "nbformat": 4,
 "nbformat_minor": 4
}
